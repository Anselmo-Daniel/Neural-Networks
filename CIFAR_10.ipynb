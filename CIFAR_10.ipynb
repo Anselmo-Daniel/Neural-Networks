{
  "cells": [
    {
      "cell_type": "markdown",
      "metadata": {
        "id": "TuUwtRhB7bsC"
      },
      "source": [
        "# Lista 3 - Redes Neurais"
      ]
    },
    {
      "cell_type": "markdown",
      "metadata": {
        "id": "vohbPNPL7gP6"
      },
      "source": [
        "## Questão 1"
      ]
    },
    {
      "cell_type": "markdown",
      "metadata": {
        "id": "6ZfuJhzo7iDi"
      },
      "source": [
        "O algoritmo de gradiente descendente, que é usado para treinar redes neurais são determinísticos e ele pode ser escrito em termos de derivadas parciais\n",
        "\n",
        "exemplo: $ w_{n+1}^{i} = w_n^{i} - \\alpha \\frac{\\delta J}{\\delta w} $\n",
        "\n",
        "isso para cada um dos meus pesos $ w^{i} $, se todos forem inicializados com o mesmo peso, todos teram o mesmo impacto no resultado, logo mudaram na mesma quantidade. Dessa forma, cada um dos neurônios da minha rede neural irão desempenhar o mesmo papel e serão redudantes\n",
        "\n",
        "<br>\n",
        "\n",
        "glossário:\n",
        "\n",
        "$ \\alpha $ : Learning Rate\n",
        "\n",
        "$ J $ : Função de perca"
      ]
    },
    {
      "cell_type": "markdown",
      "metadata": {
        "id": "6IuNgS_o7hxl"
      },
      "source": [
        "## Questão 2"
      ]
    },
    {
      "cell_type": "markdown",
      "metadata": {
        "id": "hGslBERSEVV6"
      },
      "source": [
        "Se as minhas ativações na minha rede MLP forem todas lineares, a separação de cada um dos dados serão hiperplanos lineares e dessa forma, dados mais complexos e sem a característica lineares não serem aprendidos da forma correta e a minha rede MLP irá gerar resultados insatisfatórios"
      ]
    },
    {
      "cell_type": "markdown",
      "metadata": {
        "id": "KItkuovWEVNs"
      },
      "source": [
        "## Questão 3"
      ]
    },
    {
      "cell_type": "markdown",
      "metadata": {
        "id": "cACfotcPEVAi"
      },
      "source": [
        "Letra A)\n",
        "\n",
        "Os neurônios na camada convolucional de uma CNN pode se conectar a uma região limitada da acamada anterior, isso é similar à esparsidade de uma MLP. Além disso, quando utilizamos o mesmo kernel em toda a imagem, há com isso o compartilhamento de pesos que se assemelha a neurônios com pesos compartilhados em uma MLP\n",
        "\n",
        "Letra B)\n",
        "\n",
        "A aplicação do mesmo kernel em diferentes partes da imagem dá a nossa rede uma propriedade muito importante que é a invariância à translação das CNNs. Ou seja, podemos encontrar padrões específicos independente da posição inical da imagem\n",
        "\n",
        "Letra C)\n",
        "\n",
        "O compartilhamento de pesos em CNNs se refere à utilização do mesmo kernel, com seus pesos aprendidos durante o treinamento, em toda a extensão da imagem. Em ve de termos pesos únicos para cada uma das conexões entre pixeç e neurônios, o kernel \"desliza\" pela imagem, extraindo suas características em diferentes posições e usando o mesmo conjunto de pesos"
      ]
    },
    {
      "cell_type": "markdown",
      "metadata": {
        "id": "rJxDGKLzEXtD"
      },
      "source": [
        "## Questão 4"
      ]
    },
    {
      "cell_type": "markdown",
      "metadata": {
        "id": "YIU1qqhbEZRk"
      },
      "source": []
    },
    {
      "cell_type": "markdown",
      "metadata": {
        "id": "dEgaBAozEY8w"
      },
      "source": [
        "## Questão 5"
      ]
    },
    {
      "cell_type": "markdown",
      "metadata": {
        "id": "lMnjT5pxEbrS"
      },
      "source": [
        "Matriz de entrada:\n",
        "\n",
        "$$\n",
        "X =\n",
        "\\begin{bmatrix}\n",
        "1 & 2 & 3 & 4 & 5 \\\\\n",
        "1 & 1 & 1 & 1 & 1 \\\\\n",
        "0 & 1 & -2 & 1 & -1 \\\\\n",
        "0 & 0 & 0 & -2 & 1 \\\\\n",
        "1 & 2 & 2 & 0 & 0\n",
        "\\end{bmatrix} $$\n",
        "\n",
        "<br>\n",
        "\n",
        "Kernel:\n",
        "$$\n",
        "K =\n",
        "\\begin{bmatrix}\n",
        "1 & 0 & 0 \\\\\n",
        "1 & 0 & 0 \\\\\n",
        "0 & 1 & 0\n",
        "\\end{bmatrix}$$\n",
        "\n",
        "Seja $Y$ a matriz resultante da convolução com um stride(2,2) sem padding.\n",
        "\n",
        "O primeiro elemento de $Y$ é calculado como:\n",
        "\n",
        "<br>\n",
        "\n",
        "$Y_{11} = (1 \\times 1) + (0 \\times 2) + (0 \\times 3) + (1 \\times 1) + (0 \\times 1) + (0 \\times 1) + (0 \\times 0) + (1 \\times 1) + (0 \\times -2) = 2$\n",
        "\n",
        "O segundo elemento da primeira linha de Y é calculado como:\n",
        "\n",
        "<br>\n",
        "\n",
        "$Y_{12} = (1 \\times 3) + (0 \\times 4) + (0 \\times 5) + (1 \\times 1) + (0 \\times 1) + (0 \\times 1) + (0 \\times -2) + (1 \\times 1) + (0 \\times -1) = 4\n",
        "$"
      ]
    },
    {
      "cell_type": "markdown",
      "source": [
        "Os demais elementos são zero, pois ao deslizarmos a matriz $K$ na Matriz $X$ pelo stride (2,2) a gente \"saí\" da matriz principal"
      ],
      "metadata": {
        "id": "MoG4dZteNOyW"
      }
    },
    {
      "cell_type": "markdown",
      "source": [
        "Então a matriz final é:\n",
        "\n",
        "$$\n",
        "Y =\n",
        "\\begin{bmatrix}\n",
        "2 & 4 \\\\\n",
        "0 & 0  \n",
        "\\end{bmatrix}$$\n"
      ],
      "metadata": {
        "id": "YLl2cuYvNY2U"
      }
    },
    {
      "cell_type": "markdown",
      "metadata": {
        "id": "adU7qJVUFxXm"
      },
      "source": [
        "## Questão 6"
      ]
    },
    {
      "cell_type": "code",
      "execution_count": null,
      "metadata": {
        "id": "p1Mb7jrT7hB-"
      },
      "outputs": [],
      "source": [
        "import numpy as np\n",
        "from matplotlib import pyplot as plt\n",
        "import pandas as pd\n",
        "import torch\n",
        "import torch.nn as nn\n",
        "import torch.nn.functional as F\n",
        "import torch.optim as optim\n",
        "from torch.utils.data import TensorDataset, DataLoader, random_split\n",
        "from torchvision.utils import make_grid\n",
        "\n",
        "from torchvision.datasets import CIFAR10\n",
        "from torchvision.transforms import ToTensor, Normalize, Compose\n",
        "from torchvision.models import resnet18"
      ]
    },
    {
      "cell_type": "code",
      "execution_count": null,
      "metadata": {
        "colab": {
          "base_uri": "https://localhost:8080/"
        },
        "id": "de_gwLyYGEzT",
        "outputId": "a908730d-3b22-4084-f2c0-2d5cead34561"
      },
      "outputs": [
        {
          "output_type": "stream",
          "name": "stdout",
          "text": [
            "Files already downloaded and verified\n"
          ]
        }
      ],
      "source": [
        "dataset = CIFAR10(root='data/', download=True, transform=ToTensor())"
      ]
    },
    {
      "cell_type": "code",
      "execution_count": null,
      "metadata": {
        "colab": {
          "base_uri": "https://localhost:8080/"
        },
        "id": "rhKxfdKOGwH0",
        "outputId": "93e58d07-1e55-43c8-9a56-707958571098"
      },
      "outputs": [
        {
          "output_type": "execute_result",
          "data": {
            "text/plain": [
              "(Dataset CIFAR10\n",
              "     Number of datapoints: 50000\n",
              "     Root location: data/\n",
              "     Split: Train\n",
              "     StandardTransform\n",
              " Transform: ToTensor(),\n",
              " ['airplane',\n",
              "  'automobile',\n",
              "  'bird',\n",
              "  'cat',\n",
              "  'deer',\n",
              "  'dog',\n",
              "  'frog',\n",
              "  'horse',\n",
              "  'ship',\n",
              "  'truck'])"
            ]
          },
          "metadata": {},
          "execution_count": 3
        }
      ],
      "source": [
        "dataset, dataset.classes"
      ]
    },
    {
      "cell_type": "code",
      "execution_count": null,
      "metadata": {
        "colab": {
          "base_uri": "https://localhost:8080/",
          "height": 482
        },
        "id": "xF1z_rzXHJB8",
        "outputId": "648b1761-00ab-4b9f-ac44-92b5578f9eb1"
      },
      "outputs": [
        {
          "output_type": "stream",
          "name": "stdout",
          "text": [
            "torch.Size([3, 32, 32])\n",
            "Label (numeric): 6\n",
            "Label (textual): frog\n"
          ]
        },
        {
          "output_type": "display_data",
          "data": {
            "text/plain": [
              "<Figure size 640x480 with 1 Axes>"
            ],
            "image/png": "[encoded data removed]"
          },
          "metadata": {}
        }
      ],
      "source": [
        "img, label = dataset[0]\n",
        "img_shape = img.shape\n",
        "print(img_shape)\n",
        "\n",
        "img, label = dataset[0]\n",
        "plt.imshow(img.permute((1, 2, 0)))\n",
        "print('Label (numeric):', label)\n",
        "print('Label (textual):', dataset.classes[label])"
      ]
    },
    {
      "cell_type": "markdown",
      "metadata": {
        "id": "ndYtArEuIyST"
      },
      "source": [
        "### Letra A"
      ]
    },
    {
      "cell_type": "markdown",
      "metadata": {
        "id": "QZDudvnbJhZM"
      },
      "source": [
        "Número de imagens no dataset: 50.000\n",
        "\n",
        "Dimensões de cada imagem: 3x32x32 -> 3 representa as cores RGB e a imagem é 32x32\n",
        "\n",
        "Lista de classes presentes: Airplane, Automobile, Bird, Cat, Deer, Dog, Frog,Horse, Ship, Truck"
      ]
    },
    {
      "cell_type": "markdown",
      "metadata": {
        "id": "hqDqIPQdTmgh"
      },
      "source": [
        "### Letra B"
      ]
    },
    {
      "cell_type": "code",
      "execution_count": null,
      "metadata": {
        "colab": {
          "base_uri": "https://localhost:8080/",
          "height": 422
        },
        "id": "A5OyrD_ZHXeL",
        "outputId": "43ad914b-ea43-422a-fe8e-d1188f2b3e23"
      },
      "outputs": [
        {
          "output_type": "display_data",
          "data": {
            "text/plain": [
              "<Figure size 1500x500 with 10 Axes>"
            ],
            "image/png": "[encoded data removed]"
          },
          "metadata": {}
        }
      ],
      "source": [
        "# Plotando as 10 primeiras imagens\n",
        "\n",
        "plt.figure(figsize=(15, 5))\n",
        "for i in range(10):\n",
        "    img, label = dataset[i]\n",
        "    plt.subplot(2, 5, i + 1)\n",
        "    plt.imshow(img.permute((1, 2, 0)))\n",
        "    plt.axis(\"off\")\n",
        "plt.show()"
      ]
    },
    {
      "cell_type": "markdown",
      "metadata": {
        "id": "JpnjfsFBTqDD"
      },
      "source": [
        "### Letra C"
      ]
    },
    {
      "cell_type": "code",
      "execution_count": null,
      "metadata": {
        "colab": {
          "base_uri": "https://localhost:8080/"
        },
        "id": "g_Xgf-66Lrvu",
        "outputId": "e06a7a5f-87aa-4b78-a75a-bc079377fc3d"
      },
      "outputs": [
        {
          "output_type": "stream",
          "name": "stdout",
          "text": [
            "(tensor([[[0.2314, 0.1686, 0.1961,  ..., 0.6196, 0.5961, 0.5804],\n",
            "         [0.0627, 0.0000, 0.0706,  ..., 0.4824, 0.4667, 0.4784],\n",
            "         [0.0980, 0.0627, 0.1922,  ..., 0.4627, 0.4706, 0.4275],\n",
            "         ...,\n",
            "         [0.8157, 0.7882, 0.7765,  ..., 0.6275, 0.2196, 0.2078],\n",
            "         [0.7059, 0.6784, 0.7294,  ..., 0.7216, 0.3804, 0.3255],\n",
            "         [0.6941, 0.6588, 0.7020,  ..., 0.8471, 0.5922, 0.4824]],\n",
            "\n",
            "        [[0.2431, 0.1804, 0.1882,  ..., 0.5176, 0.4902, 0.4863],\n",
            "         [0.0784, 0.0000, 0.0314,  ..., 0.3451, 0.3255, 0.3412],\n",
            "         [0.0941, 0.0275, 0.1059,  ..., 0.3294, 0.3294, 0.2863],\n",
            "         ...,\n",
            "         [0.6667, 0.6000, 0.6314,  ..., 0.5216, 0.1216, 0.1333],\n",
            "         [0.5451, 0.4824, 0.5647,  ..., 0.5804, 0.2431, 0.2078],\n",
            "         [0.5647, 0.5059, 0.5569,  ..., 0.7216, 0.4627, 0.3608]],\n",
            "\n",
            "        [[0.2471, 0.1765, 0.1686,  ..., 0.4235, 0.4000, 0.4039],\n",
            "         [0.0784, 0.0000, 0.0000,  ..., 0.2157, 0.1961, 0.2235],\n",
            "         [0.0824, 0.0000, 0.0314,  ..., 0.1961, 0.1961, 0.1647],\n",
            "         ...,\n",
            "         [0.3765, 0.1333, 0.1020,  ..., 0.2745, 0.0275, 0.0784],\n",
            "         [0.3765, 0.1647, 0.1176,  ..., 0.3686, 0.1333, 0.1333],\n",
            "         [0.4549, 0.3686, 0.3412,  ..., 0.5490, 0.3294, 0.2824]]]), 6)\n"
          ]
        }
      ],
      "source": [
        "# Analisando as imagens do dataset\n",
        "\n",
        "print(dataset[0])"
      ]
    },
    {
      "cell_type": "code",
      "execution_count": null,
      "metadata": {
        "colab": {
          "base_uri": "https://localhost:8080/"
        },
        "id": "3yb5LwUQVeYR",
        "outputId": "2fdec787-a951-4ca8-fdfc-80dba96f58a7"
      },
      "outputs": [
        {
          "output_type": "execute_result",
          "data": {
            "text/plain": [
              "(1.0, 0.0)"
            ]
          },
          "metadata": {},
          "execution_count": 7
        }
      ],
      "source": [
        "#Código para verificar o maior e menor valor de pixel da imagem\n",
        "\n",
        "max_values = []\n",
        "min_values = []\n",
        "\n",
        "for img, _ in dataset:\n",
        "  max_value = torch.max(img)\n",
        "  min_value = torch.min(img)\n",
        "  max_values.append(max_value.item())\n",
        "  min_values.append(min_value.item())\n",
        "\n",
        "np.max(max_values), np.min(min_values)"
      ]
    },
    {
      "cell_type": "markdown",
      "metadata": {
        "id": "6FgcMt1mTsNj"
      },
      "source": [
        "O dataset CIFAR10 que foi importado do torchvision.datasets foi reescalonada para o intervalo [0,1] ao usar a transformação ToTensor()"
      ]
    },
    {
      "cell_type": "markdown",
      "metadata": {
        "id": "3ydKGREwWPr_"
      },
      "source": [
        "### Letra D"
      ]
    },
    {
      "cell_type": "code",
      "execution_count": null,
      "metadata": {
        "id": "zzULtRwaaFzI"
      },
      "outputs": [],
      "source": [
        "# Dispositivo (CPU ou GPU)\n",
        "device = torch.device(\"cuda\" if torch.cuda.is_available() else \"cpu\")\n",
        "\n",
        "# Dividir o conjunto de dados em treino e validação\n",
        "train_size = 40000\n",
        "val_size = len(dataset) - train_size\n",
        "train_dataset, val_dataset = random_split(dataset, [train_size, val_size])\n",
        "batch_size_train = 64\n",
        "batch_size_val   = 1000\n",
        "\n",
        "# Carregar os dados em DataLoaders\n",
        "trainloader = DataLoader(train_dataset, batch_size=batch_size_train, shuffle=True)\n",
        "testloader = DataLoader(val_dataset, batch_size=batch_size_val, shuffle=True)"
      ]
    },
    {
      "cell_type": "code",
      "source": [
        "# modelos CNN\n",
        "class CNN2(nn.Module):\n",
        "    def __init__(self):\n",
        "        super(CNN2, self).__init__()\n",
        "        self.conv1 = nn.Conv2d(3, 32, 3, padding=1)\n",
        "        self.pool = nn.MaxPool2d(2, 2)\n",
        "        self.conv2 = nn.Conv2d(32, 64, 3, padding=1)\n",
        "        self.flatten = nn.Flatten()\n",
        "        self.fc1 = nn.Linear(64 * 8 * 8, 1024)\n",
        "        self.fc2 = nn.Linear(1024, 512)\n",
        "        self.fc3 = nn.Linear(512, 256)\n",
        "        self.fc4 = nn.Linear(256, 10)\n",
        "\n",
        "    def forward(self, x):\n",
        "        #Camadas convolucionais\n",
        "        x = self.pool(F.relu(self.conv1(x)))\n",
        "        x = self.pool(F.relu(self.conv2(x)))\n",
        "        x = self.flatten(x)\n",
        "\n",
        "        #Camadas MLP\n",
        "        x = F.relu(self.fc1(x))\n",
        "        x = F.relu(self.fc2(x))\n",
        "        x = F.relu(self.fc3(x))\n",
        "        x = self.fc4(x) # Output\n",
        "\n",
        "        return x\n",
        "\n",
        "class CNN3(nn.Module):\n",
        "    def __init__(self):\n",
        "        super(CNN3, self).__init__()\n",
        "        self.conv1 = nn.Conv2d(3, 32, 3, padding=1)\n",
        "        self.pool = nn.MaxPool2d(2, 2)\n",
        "        self.conv2 = nn.Conv2d(32, 64, 3, padding=1)\n",
        "        self.conv3 = nn.Conv2d(64, 128, 3, padding=1)\n",
        "        self.flatten = nn.Flatten()\n",
        "        self.fc1 = nn.Linear(128 * 4 * 4, 1024)\n",
        "        self.fc2 = nn.Linear(1024, 512)\n",
        "        self.fc3 = nn.Linear(512, 256)\n",
        "        self.fc4 = nn.Linear(256, 10)\n",
        "\n",
        "    def forward(self, x):\n",
        "\n",
        "        #Camadas convolucionais\n",
        "        x = self.pool(F.relu(self.conv1(x)))\n",
        "        x = self.pool(F.relu(self.conv2(x)))\n",
        "        x = self.pool(F.relu(self.conv3(x)))\n",
        "\n",
        "        #Camadas MLP\n",
        "        x = self.flatten(x)\n",
        "        x = F.relu(self.fc1(x))\n",
        "        x = F.relu(self.fc2(x))\n",
        "        x = F.relu(self.fc3(x))\n",
        "        x = self.fc4(x) # Output\n",
        "\n",
        "        return x\n",
        "\n",
        "class CNN4(nn.Module):\n",
        "    def __init__(self):\n",
        "        super(CNN4, self).__init__()\n",
        "        self.conv1 = nn.Conv2d(3, 32, 3, padding=1)\n",
        "        self.pool = nn.MaxPool2d(2, 2)\n",
        "        self.conv2 = nn.Conv2d(32, 64, 3, padding=1)\n",
        "        self.conv3 = nn.Conv2d(64, 128, 3, padding=1)\n",
        "        self.conv4 = nn.Conv2d(128, 256, 3, padding=1)\n",
        "        self.flatten = nn.Flatten()\n",
        "        self.fc1 = nn.Linear(256 * 2 * 2, 512)\n",
        "        self.fc2 = nn.Linear(512, 256)\n",
        "        self.fc3 = nn.Linear(256, 128)\n",
        "        self.fc4 = nn.Linear(128, 10)\n",
        "\n",
        "    def forward(self, x):\n",
        "\n",
        "        #Camadas Convolucionais\n",
        "        x = self.pool(F.relu(self.conv1(x)))\n",
        "        x = self.pool(F.relu(self.conv2(x)))\n",
        "        x = self.pool(F.relu(self.conv3(x)))\n",
        "        x = self.pool(F.relu(self.conv4(x)))\n",
        "        x = self.flatten(x)\n",
        "\n",
        "        #Camadas MLP\n",
        "        x = F.relu(self.fc1(x))\n",
        "        x = F.relu(self.fc2(x))\n",
        "        x = F.relu(self.fc3(x))\n",
        "        x = self.fc4(x)\n",
        "\n",
        "        return x"
      ],
      "metadata": {
        "id": "Qs59_BFRKQhQ"
      },
      "execution_count": null,
      "outputs": []
    },
    {
      "cell_type": "code",
      "source": [
        "# Lista de modelos\n",
        "models = [\n",
        "    CNN2(),\n",
        "    CNN3(),\n",
        "    CNN4()]\n",
        "\n",
        "accuracies = {model: [] for model in models}\n",
        "names = {models[0]: \"CNN 2 Camadas\", models[1]: \"CNN 3 Camadas\", models[2]: \"CNN 4 Camadas\"}\n",
        "\n",
        "# Loop de Treinamento e Avaliação\n",
        "for model in models:\n",
        "    print(\" \")\n",
        "    print(\"Modelo\", f\"{names[model]}\")\n",
        "    print(\" \")\n",
        "    model = model.to(device)\n",
        "    criterion = nn.CrossEntropyLoss()\n",
        "    opt = optim.Adam(model.parameters(), lr=0.001)\n",
        "\n",
        "    print(\"Fase de Treino\")\n",
        "    for epoch in range(10):\n",
        "        running_loss = 0.0\n",
        "\n",
        "        # Treinamento\n",
        "        model.train()\n",
        "        for i, data in enumerate(trainloader, 0):\n",
        "            inputs, labels = data[0].to(device), data[1].to(device)\n",
        "\n",
        "            outputs = model(inputs)\n",
        "            loss = criterion(outputs, labels)\n",
        "\n",
        "            loss.backward()\n",
        "            opt.step()\n",
        "            opt.zero_grad()\n",
        "\n",
        "            running_loss += loss.item()\n",
        "            if i % 200 == 199:\n",
        "                print('[%d, %5d] perda: %.3f' %\n",
        "                      (epoch + 1, i + 1, running_loss / 200))\n",
        "                running_loss = 0.0\n",
        "\n",
        "        # Avaliação do modelo no conjunto de treino\n",
        "        model.eval()\n",
        "        correct_train = 0\n",
        "        total_train = 0\n",
        "\n",
        "        with torch.no_grad():\n",
        "            for data in trainloader:\n",
        "                images, labels = data[0].to(device), data[1].to(device)\n",
        "                outputs = model(images)\n",
        "                _, predicted = torch.max(outputs.data, 1)\n",
        "                total_train += labels.size(0)\n",
        "                correct_train += (predicted == labels).sum().item()\n",
        "\n",
        "        acuracia_treino = 100 * correct_train / total_train\n",
        "\n",
        "        # Avaliação do modelo no conjunto de teste\n",
        "        correct_test = 0\n",
        "        total_test = 0\n",
        "\n",
        "        with torch.no_grad():\n",
        "            for data in testloader:\n",
        "                images, labels = data[0].to(device), data[1].to(device)\n",
        "                outputs = model(images)\n",
        "                _, predicted = torch.max(outputs.data, 1)\n",
        "                total_test += labels.size(0)\n",
        "                correct_test += (predicted == labels).sum().item()\n",
        "\n",
        "        acuracia_teste = 100 * correct_test / total_test\n",
        "\n",
        "        print(f'Época {epoch+1} - Acurácia no conjunto de treino: {acuracia_treino:.2f}%')\n",
        "        print(f'Época {epoch+1} - Acurácia no conjunto de teste: {acuracia_teste:.2f}%')\n",
        "        print(\" \")\n",
        "\n",
        "    print(f\"Terminou o treinamento do modelo: {model.__class__.__name__}\")\n",
        "    print(\"-\" * 50)"
      ],
      "metadata": {
        "colab": {
          "base_uri": "https://localhost:8080/"
        },
        "id": "ulzy5c3tLIOQ",
        "outputId": "9bf1a1c6-37f1-4d3b-9c23-68ae535a984b"
      },
      "execution_count": null,
      "outputs": [
        {
          "output_type": "stream",
          "name": "stdout",
          "text": [
            " \n",
            "Modelo CNN 2 Camadas\n",
            " \n",
            "Fase de Treino\n",
            "[1,   200] perda: 1.892\n",
            "[1,   400] perda: 1.496\n",
            "[1,   600] perda: 1.326\n",
            "Época 1 - Acurácia no conjunto de treino: 56.24%\n",
            "Época 1 - Acurácia no conjunto de teste: 55.19%\n",
            " \n",
            "[2,   200] perda: 1.186\n",
            "[2,   400] perda: 1.121\n",
            "[2,   600] perda: 1.064\n",
            "Época 2 - Acurácia no conjunto de treino: 67.80%\n",
            "Época 2 - Acurácia no conjunto de teste: 64.09%\n",
            " \n",
            "[3,   200] perda: 0.937\n",
            "[3,   400] perda: 0.931\n",
            "[3,   600] perda: 0.898\n",
            "Época 3 - Acurácia no conjunto de treino: 74.66%\n",
            "Época 3 - Acurácia no conjunto de teste: 67.70%\n",
            " \n",
            "[4,   200] perda: 0.764\n",
            "[4,   400] perda: 0.759\n",
            "[4,   600] perda: 0.753\n",
            "Época 4 - Acurácia no conjunto de treino: 79.31%\n",
            "Época 4 - Acurácia no conjunto de teste: 68.48%\n",
            " \n",
            "[5,   200] perda: 0.580\n",
            "[5,   400] perda: 0.603\n",
            "[5,   600] perda: 0.620\n",
            "Época 5 - Acurácia no conjunto de treino: 85.37%\n",
            "Época 5 - Acurácia no conjunto de teste: 70.64%\n",
            " \n",
            "[6,   200] perda: 0.426\n",
            "[6,   400] perda: 0.469\n",
            "[6,   600] perda: 0.480\n",
            "Época 6 - Acurácia no conjunto de treino: 88.23%\n",
            "Época 6 - Acurácia no conjunto de teste: 69.00%\n",
            " \n",
            "[7,   200] perda: 0.293\n",
            "[7,   400] perda: 0.314\n",
            "[7,   600] perda: 0.339\n",
            "Época 7 - Acurácia no conjunto de treino: 92.86%\n",
            "Época 7 - Acurácia no conjunto de teste: 70.12%\n",
            " \n",
            "[8,   200] perda: 0.191\n",
            "[8,   400] perda: 0.221\n",
            "[8,   600] perda: 0.246\n",
            "Época 8 - Acurácia no conjunto de treino: 93.89%\n",
            "Época 8 - Acurácia no conjunto de teste: 68.31%\n",
            " \n",
            "[9,   200] perda: 0.127\n",
            "[9,   400] perda: 0.172\n",
            "[9,   600] perda: 0.174\n",
            "Época 9 - Acurácia no conjunto de treino: 95.52%\n",
            "Época 9 - Acurácia no conjunto de teste: 68.50%\n",
            " \n",
            "[10,   200] perda: 0.110\n",
            "[10,   400] perda: 0.128\n",
            "[10,   600] perda: 0.147\n",
            "Época 10 - Acurácia no conjunto de treino: 96.58%\n",
            "Época 10 - Acurácia no conjunto de teste: 68.73%\n",
            " \n",
            "Terminou o treinamento do modelo: CNN2\n",
            "--------------------------------------------------\n",
            " \n",
            "Modelo CNN 3 Camadas\n",
            " \n",
            "Fase de Treino\n",
            "[1,   200] perda: 1.976\n",
            "[1,   400] perda: 1.595\n",
            "[1,   600] perda: 1.429\n",
            "Época 1 - Acurácia no conjunto de treino: 53.16%\n",
            "Época 1 - Acurácia no conjunto de teste: 51.95%\n",
            " \n",
            "[2,   200] perda: 1.263\n",
            "[2,   400] perda: 1.174\n",
            "[2,   600] perda: 1.123\n",
            "Época 2 - Acurácia no conjunto de treino: 61.99%\n",
            "Época 2 - Acurácia no conjunto de teste: 60.13%\n",
            " \n",
            "[3,   200] perda: 1.005\n",
            "[3,   400] perda: 0.969\n",
            "[3,   600] perda: 0.931\n",
            "Época 3 - Acurácia no conjunto de treino: 72.31%\n",
            "Época 3 - Acurácia no conjunto de teste: 67.24%\n",
            " \n",
            "[4,   200] perda: 0.828\n",
            "[4,   400] perda: 0.814\n",
            "[4,   600] perda: 0.767\n",
            "Época 4 - Acurácia no conjunto de treino: 75.91%\n",
            "Época 4 - Acurácia no conjunto de teste: 68.83%\n",
            " \n",
            "[5,   200] perda: 0.678\n",
            "[5,   400] perda: 0.662\n",
            "[5,   600] perda: 0.675\n",
            "Época 5 - Acurácia no conjunto de treino: 81.21%\n",
            "Época 5 - Acurácia no conjunto de teste: 70.49%\n",
            " \n",
            "[6,   200] perda: 0.541\n",
            "[6,   400] perda: 0.547\n",
            "[6,   600] perda: 0.566\n",
            "Época 6 - Acurácia no conjunto de treino: 84.72%\n",
            "Época 6 - Acurácia no conjunto de teste: 71.66%\n",
            " \n",
            "[7,   200] perda: 0.420\n",
            "[7,   400] perda: 0.436\n",
            "[7,   600] perda: 0.460\n",
            "Época 7 - Acurácia no conjunto de treino: 89.33%\n",
            "Época 7 - Acurácia no conjunto de teste: 72.85%\n",
            " \n",
            "[8,   200] perda: 0.306\n",
            "[8,   400] perda: 0.351\n",
            "[8,   600] perda: 0.364\n",
            "Época 8 - Acurácia no conjunto de treino: 91.85%\n",
            "Época 8 - Acurácia no conjunto de teste: 71.74%\n",
            " \n",
            "[9,   200] perda: 0.240\n",
            "[9,   400] perda: 0.279\n",
            "[9,   600] perda: 0.296\n",
            "Época 9 - Acurácia no conjunto de treino: 93.39%\n",
            "Época 9 - Acurácia no conjunto de teste: 71.33%\n",
            " \n",
            "[10,   200] perda: 0.172\n",
            "[10,   400] perda: 0.228\n",
            "[10,   600] perda: 0.230\n",
            "Época 10 - Acurácia no conjunto de treino: 95.58%\n",
            "Época 10 - Acurácia no conjunto de teste: 71.55%\n",
            " \n",
            "Terminou o treinamento do modelo: CNN3\n",
            "--------------------------------------------------\n",
            " \n",
            "Modelo CNN 4 Camadas\n",
            " \n",
            "Fase de Treino\n",
            "[1,   200] perda: 2.087\n",
            "[1,   400] perda: 1.737\n",
            "[1,   600] perda: 1.579\n",
            "Época 1 - Acurácia no conjunto de treino: 45.41%\n",
            "Época 1 - Acurácia no conjunto de teste: 44.60%\n",
            " \n",
            "[2,   200] perda: 1.421\n",
            "[2,   400] perda: 1.312\n",
            "[2,   600] perda: 1.221\n",
            "Época 2 - Acurácia no conjunto de treino: 59.39%\n",
            "Época 2 - Acurácia no conjunto de teste: 57.38%\n",
            " \n",
            "[3,   200] perda: 1.082\n",
            "[3,   400] perda: 1.045\n",
            "[3,   600] perda: 1.024\n",
            "Época 3 - Acurácia no conjunto de treino: 67.24%\n",
            "Época 3 - Acurácia no conjunto de teste: 64.25%\n",
            " \n",
            "[4,   200] perda: 0.908\n",
            "[4,   400] perda: 0.899\n",
            "[4,   600] perda: 0.874\n",
            "Época 4 - Acurácia no conjunto de treino: 70.12%\n",
            "Época 4 - Acurácia no conjunto de teste: 65.31%\n",
            " \n",
            "[5,   200] perda: 0.777\n",
            "[5,   400] perda: 0.790\n",
            "[5,   600] perda: 0.772\n",
            "Época 5 - Acurácia no conjunto de treino: 77.71%\n",
            "Época 5 - Acurácia no conjunto de teste: 69.88%\n",
            " \n",
            "[6,   200] perda: 0.645\n",
            "[6,   400] perda: 0.664\n",
            "[6,   600] perda: 0.679\n",
            "Época 6 - Acurácia no conjunto de treino: 81.34%\n",
            "Época 6 - Acurácia no conjunto de teste: 71.64%\n",
            " \n",
            "[7,   200] perda: 0.557\n",
            "[7,   400] perda: 0.584\n",
            "[7,   600] perda: 0.589\n",
            "Época 7 - Acurácia no conjunto de treino: 82.94%\n",
            "Época 7 - Acurácia no conjunto de teste: 71.39%\n",
            " \n",
            "[8,   200] perda: 0.479\n",
            "[8,   400] perda: 0.497\n",
            "[8,   600] perda: 0.524\n",
            "Época 8 - Acurácia no conjunto de treino: 84.42%\n",
            "Época 8 - Acurácia no conjunto de teste: 71.56%\n",
            " \n",
            "[9,   200] perda: 0.422\n",
            "[9,   400] perda: 0.429\n",
            "[9,   600] perda: 0.456\n",
            "Época 9 - Acurácia no conjunto de treino: 88.53%\n",
            "Época 9 - Acurácia no conjunto de teste: 72.33%\n",
            " \n",
            "[10,   200] perda: 0.334\n",
            "[10,   400] perda: 0.369\n",
            "[10,   600] perda: 0.391\n",
            "Época 10 - Acurácia no conjunto de treino: 89.70%\n",
            "Época 10 - Acurácia no conjunto de teste: 72.24%\n",
            " \n",
            "Terminou o treinamento do modelo: CNN4\n",
            "--------------------------------------------------\n"
          ]
        }
      ]
    },
    {
      "cell_type": "markdown",
      "source": [
        "Em todos os modelos usamos o batch_size de 64 no trainloader e o batch_size de 1000 no testloader.\n",
        "\n",
        "Fixamos o learning Rate em 0.001 em todos os modelos também.\n",
        "\n",
        "<br>\n",
        "\n",
        "Estrutura de cada um dos modelos:\n",
        "\n",
        "<br>\n",
        "\n",
        "Modelo CNN2:\n",
        "\n",
        "* Conv1: 32 unidades latentes, função de ativação ReLU\n",
        "* Conv2: 64 unidades latentes, função de ativação ReLU\n",
        "* FC1: 1024 unidades latentes, função de ativação ReLU\n",
        "* FC2: 512 unidades latentes, função de ativação ReLU\n",
        "* FC3: 256 unidades latentes, função de ativação ReLU\n",
        "* FC4: 10 unidades latentes, sem função de ativação (camada de saída)\n",
        "\n",
        "<br>\n",
        "\n",
        "Modelo CNN3:\n",
        "\n",
        "* Conv1: 32 unidades latentes, função de ativação ReLU\n",
        "* Conv2: 64 unidades latentes, função de ativação ReLU\n",
        "* Conv3: 128 unidades latentes, função de ativação ReLU\n",
        "* FC1: 1024 unidades latentes, função de ativação ReLU\n",
        "* FC2: 512 unidades latentes, função de ativação ReLU\n",
        "* FC3: 256 unidades latentes, função de ativação ReLU\n",
        "* FC4: 10 unidades latentes, sem função de ativação (camada de saída)\n",
        "\n",
        "<br>\n",
        "\n",
        "Modelo CNN4:\n",
        "\n",
        "* Conv1: 32 unidades latentes, função de ativação ReLU\n",
        "* Conv2: 64 unidades latentes, função de ativação ReLU\n",
        "* Conv3: 128 unidades latentes, função de ativação ReLU\n",
        "* Conv4: 256 unidades latentes, função de ativação ReLU\n",
        "* FC1: 512 unidades latentes, função de ativação ReLU\n",
        "* FC2: 256 unidades latentes, função de ativação ReLU\n",
        "* FC3: 128 unidades latentes, função de ativação ReLU\n",
        "* FC4: 10 unidades latentes, sem função de ativação (camada de saída)\n",
        "\n"
      ],
      "metadata": {
        "id": "PLcoWem9z42O"
      }
    },
    {
      "cell_type": "markdown",
      "source": [
        "### Letra E"
      ],
      "metadata": {
        "id": "meJ31EVFEWjd"
      }
    },
    {
      "cell_type": "markdown",
      "source": [
        "O melhor modelo é o CNN3.\n",
        "\n",
        "Depois de +/- 5 épocas todos os modelos retornam uma acurácia próxima de 90% no conjunto de treino, mas no conjunto de validação fica próximo de 70% de acurácia."
      ],
      "metadata": {
        "id": "-yNu_u5wEejQ"
      }
    },
    {
      "cell_type": "markdown",
      "source": [
        "### Letra F"
      ],
      "metadata": {
        "id": "xJgf9tgaEzU0"
      }
    },
    {
      "cell_type": "code",
      "source": [
        "class CNN3_Dropout(nn.Module):\n",
        "    def __init__(self):\n",
        "        super(CNN3_Dropout, self).__init__()\n",
        "        self.conv1 = nn.Conv2d(3, 32, 3, padding=1)\n",
        "        self.pool = nn.MaxPool2d(2, 2)\n",
        "        self.conv2 = nn.Conv2d(32, 64, 3, padding=1)\n",
        "        self.conv3 = nn.Conv2d(64, 128, 3, padding=1)\n",
        "        self.flatten = nn.Flatten()\n",
        "        self.fc1 = nn.Linear(128 * 4 * 4, 1024)\n",
        "        self.fc2 = nn.Linear(1024, 512)\n",
        "        self.fc3 = nn.Linear(512, 256)\n",
        "        self.fc4 = nn.Linear(256, 10)\n",
        "        self.dropout = nn.Dropout(p=0.5)  # Dropout com 50% de probabilidade\n",
        "\n",
        "    def forward(self, x):\n",
        "\n",
        "        # Camadas convolucionais\n",
        "        x = self.pool(F.relu(self.conv1(x)))\n",
        "        x = self.pool(F.relu(self.conv2(x)))\n",
        "        x = self.pool(F.relu(self.conv3(x)))\n",
        "\n",
        "        # Camadas MLP com Dropout\n",
        "        x = self.flatten(x)\n",
        "        x = F.relu(self.fc1(x))\n",
        "        x = self.dropout(x)  # Aplicando dropout após a primeira camada totalmente conectada\n",
        "        x = F.relu(self.fc2(x))\n",
        "        x = self.dropout(x)  # Aplicando dropout após a segunda camada totalmente conectada\n",
        "        x = F.relu(self.fc3(x))\n",
        "        x = self.dropout(x)  # Aplicando dropout após a terceira camada totalmente conectada\n",
        "        x = self.fc4(x)  # Output\n",
        "\n",
        "        return x"
      ],
      "metadata": {
        "id": "QkmGE6xL1NfV"
      },
      "execution_count": null,
      "outputs": []
    },
    {
      "cell_type": "code",
      "source": [
        "print(\"CNN3 com Dropout\")\n",
        "print(\" \")\n",
        "\n",
        "model = CNN3_Dropout()\n",
        "\n",
        "model = model.to(device)\n",
        "criterion = nn.CrossEntropyLoss()\n",
        "opt = optim.Adam(model.parameters(), lr=0.001)\n",
        "\n",
        "print(\"Fase de Treino\")\n",
        "for epoch in range(10):\n",
        "    running_loss = 0.0\n",
        "\n",
        "    # Treinamento\n",
        "    model.train()\n",
        "    for i, data in enumerate(trainloader, 0):\n",
        "        inputs, labels = data[0].to(device), data[1].to(device)\n",
        "\n",
        "        outputs = model(inputs)\n",
        "        loss = criterion(outputs, labels)\n",
        "\n",
        "        loss.backward()\n",
        "        opt.step()\n",
        "        opt.zero_grad()\n",
        "\n",
        "        running_loss += loss.item()\n",
        "        if i % 200 == 199:\n",
        "            print('[%d, %5d] perda: %.3f' %\n",
        "                  (epoch + 1, i + 1, running_loss / 200))\n",
        "            running_loss = 0.0\n",
        "\n",
        "    # Avaliação do modelo no conjunto de treino\n",
        "    model.eval()\n",
        "    correct_train = 0\n",
        "    total_train = 0\n",
        "\n",
        "    with torch.no_grad():\n",
        "        for data in trainloader:\n",
        "            images, labels = data[0].to(device), data[1].to(device)\n",
        "            outputs = model(images)\n",
        "            _, predicted = torch.max(outputs.data, 1)\n",
        "            total_train += labels.size(0)\n",
        "            correct_train += (predicted == labels).sum().item()\n",
        "\n",
        "    acuracia_treino = 100 * correct_train / total_train\n",
        "\n",
        "    # Avaliação do modelo no conjunto de teste\n",
        "    correct_test = 0\n",
        "    total_test = 0\n",
        "\n",
        "    with torch.no_grad():\n",
        "        for data in testloader:\n",
        "            images, labels = data[0].to(device), data[1].to(device)\n",
        "            outputs = model(images)\n",
        "            _, predicted = torch.max(outputs.data, 1)\n",
        "            total_test += labels.size(0)\n",
        "            correct_test += (predicted == labels).sum().item()\n",
        "\n",
        "    acuracia_teste = 100 * correct_test / total_test\n",
        "\n",
        "    print(f'Época {epoch+1} - Acurácia no conjunto de treino: {acuracia_treino:.2f}%')\n",
        "    print(f'Época {epoch+1} - Acurácia no conjunto de teste: {acuracia_teste:.2f}%')\n",
        "    print(\" \")\n",
        "\n",
        "print(f\"Terminou o treinamento do modelo: {model.__class__.__name__}\")\n",
        "print(\"-\" * 50)"
      ],
      "metadata": {
        "colab": {
          "base_uri": "https://localhost:8080/"
        },
        "id": "e13DyuCaF6IZ",
        "outputId": "65d6607e-a137-4f19-f6ee-00d56ed1be92"
      },
      "execution_count": null,
      "outputs": [
        {
          "output_type": "stream",
          "name": "stdout",
          "text": [
            "CNN3 com Dropout\n",
            " \n",
            "Fase de Treino\n",
            "[1,   200] perda: 2.265\n",
            "[1,   400] perda: 1.935\n",
            "[1,   600] perda: 1.692\n",
            "Época 1 - Acurácia no conjunto de treino: 43.51%\n",
            "Época 1 - Acurácia no conjunto de teste: 43.03%\n",
            " \n",
            "[2,   200] perda: 1.545\n",
            "[2,   400] perda: 1.449\n",
            "[2,   600] perda: 1.389\n",
            "Época 2 - Acurácia no conjunto de treino: 54.01%\n",
            "Época 2 - Acurácia no conjunto de teste: 53.20%\n",
            " \n",
            "[3,   200] perda: 1.305\n",
            "[3,   400] perda: 1.302\n",
            "[3,   600] perda: 1.237\n",
            "Época 3 - Acurácia no conjunto de treino: 60.22%\n",
            "Época 3 - Acurácia no conjunto de teste: 58.74%\n",
            " \n",
            "[4,   200] perda: 1.171\n",
            "[4,   400] perda: 1.150\n",
            "[4,   600] perda: 1.144\n",
            "Época 4 - Acurácia no conjunto de treino: 64.77%\n",
            "Época 4 - Acurácia no conjunto de teste: 61.71%\n",
            " \n",
            "[5,   200] perda: 1.083\n",
            "[5,   400] perda: 1.070\n",
            "[5,   600] perda: 1.074\n",
            "Época 5 - Acurácia no conjunto de treino: 67.49%\n",
            "Época 5 - Acurácia no conjunto de teste: 64.33%\n",
            " \n",
            "[6,   200] perda: 1.004\n",
            "[6,   400] perda: 1.009\n",
            "[6,   600] perda: 0.997\n",
            "Época 6 - Acurácia no conjunto de treino: 69.34%\n",
            "Época 6 - Acurácia no conjunto de teste: 64.92%\n",
            " \n",
            "[7,   200] perda: 0.935\n",
            "[7,   400] perda: 0.960\n",
            "[7,   600] perda: 0.937\n",
            "Época 7 - Acurácia no conjunto de treino: 71.71%\n",
            "Época 7 - Acurácia no conjunto de teste: 66.36%\n",
            " \n",
            "[8,   200] perda: 0.880\n",
            "[8,   400] perda: 0.884\n",
            "[8,   600] perda: 0.895\n",
            "Época 8 - Acurácia no conjunto de treino: 74.54%\n",
            "Época 8 - Acurácia no conjunto de teste: 67.94%\n",
            " \n",
            "[9,   200] perda: 0.850\n",
            "[9,   400] perda: 0.855\n",
            "[9,   600] perda: 0.858\n",
            "Época 9 - Acurácia no conjunto de treino: 74.64%\n",
            "Época 9 - Acurácia no conjunto de teste: 68.18%\n",
            " \n",
            "[10,   200] perda: 0.797\n",
            "[10,   400] perda: 0.803\n",
            "[10,   600] perda: 0.803\n",
            "Época 10 - Acurácia no conjunto de treino: 75.33%\n",
            "Época 10 - Acurácia no conjunto de teste: 68.20%\n",
            " \n",
            "Terminou o treinamento do modelo: CNN3_Dropout\n",
            "--------------------------------------------------\n"
          ]
        }
      ]
    },
    {
      "cell_type": "markdown",
      "source": [
        "Usando o Dropout com p = 0.5 não tivemos uma melhoria na acurácia de validação. Também não notei nenhum ganho a mais com o Dropout."
      ],
      "metadata": {
        "id": "qxEGCU0mVwB3"
      }
    }
  ],
  "metadata": {
    "colab": {
      "provenance": []
    },
    "kernelspec": {
      "display_name": "Python 3",
      "name": "python3"
    },
    "language_info": {
      "name": "python"
    }
  },
  "nbformat": 4,
  "nbformat_minor": 0
}